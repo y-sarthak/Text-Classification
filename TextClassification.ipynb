{
 "cells": [
  {
   "cell_type": "code",
   "execution_count": 1,
   "metadata": {},
   "outputs": [],
   "source": [
    "#importing libraries\n",
    "import numpy as np \n",
    "import pandas as pd \n",
    "import os\n",
    "from sklearn.model_selection import train_test_split\n",
    "import re\n",
    "import matplotlib.pyplot as plt\n",
    "from sklearn.metrics import accuracy_score"
   ]
  },
  {
   "cell_type": "code",
   "execution_count": 2,
   "metadata": {},
   "outputs": [
    {
     "name": "stdout",
     "output_type": "stream",
     "text": [
      "C:\\Users\\Dell\\Videos\\data science\\New folder\n"
     ]
    }
   ],
   "source": [
    "print(os.getcwd())"
   ]
  },
  {
   "cell_type": "code",
   "execution_count": 3,
   "metadata": {},
   "outputs": [],
   "source": [
    "#importing the data\n",
    "filename = [\"mini_newsgroups\"]\n",
    "i = 0\n",
    "l = []\n",
    "names = []\n",
    "for f in filename:\n",
    "    for folder in os.listdir(f\"{f}/{f}\"):\n",
    "        names.append(folder)\n",
    "        for file in os.listdir(f\"{f}/{f}/{folder}\"):\n",
    "            a = open(f\"{f}/{f}/{folder}/{file}\",\"r+\")\n",
    "            l.append([a.read(), folder])\n",
    "            a.close()"
   ]
  },
  {
   "cell_type": "code",
   "execution_count": 4,
   "metadata": {},
   "outputs": [],
   "source": [
    "l = np.array(l)"
   ]
  },
  {
   "cell_type": "code",
   "execution_count": 5,
   "metadata": {},
   "outputs": [],
   "source": [
    "x_train, x_test = train_test_split(l, random_state = 1)"
   ]
  },
  {
   "cell_type": "code",
   "execution_count": 6,
   "metadata": {},
   "outputs": [],
   "source": [
    "flat_list=[word for line in x_train[0][0] for word in line.split()]"
   ]
  },
  {
   "cell_type": "code",
   "execution_count": 7,
   "metadata": {},
   "outputs": [
    {
     "data": {
      "text/plain": [
       "'Newsgroups: sci.crypt\\nPath: cantaloupe.srv.cs.cmu.edu!crabapple.srv.cs.cmu.edu!bb3.andrew.cmu.edu!news.sei.cmu.edu!cis.ohio-state.edu!zaphod.mps.ohio-state.edu!sol.ctr.columbia.edu!ira.uka.de!math.fu-berlin.de!ifmsun8.ifm.uni-hamburg.de!rzsun2.informatik.uni-hamburg.de!fbihh!bontchev\\nFrom: bontchev@fbihh.informatik.uni-hamburg.de (Vesselin Bontchev)\\nSubject: Re: text of White House announcement and Q&As on clipper chip encryption\\nMessage-ID: <bontchev.734981805@fbihh>\\nSender: news@informatik.uni-hamburg.de (Mr. News)\\nReply-To: bontchev@fbihh.informatik.uni-hamburg.de\\nOrganization: Virus Test Center, University of Hamburg\\nReferences: <C5L17v.GH5@dove.nist.gov>\\nDistribution: na\\nDate: Fri, 16 Apr 1993 17:36:45 GMT\\nLines: 268\\n\\nclipper@csrc.ncsl.nist.gov (Clipper Chip Announcement) writes:\\n\\n> The President today announced a new initiative that will bring\\n> the Federal Government together with industry in a voluntary\\n> program to improve the security and privacy of telephone\\n> communications while meeting the legitimate needs of law\\n> enforcement.\\n\\nA nice formulation for the introduction of the first encryption\\ndevices with built-in trapdoors - just like the Feds wanted...\\n\\n> For too long there has been little or no dialogue between our\\n> private sector and the law enforcement community to resolve the\\n> tension between economic vitality and the real challenges of\\n> protecting Americans.  Rather than use technology to accommodate\\n> the sometimes competing interests of economic growth, privacy and\\n> law enforcement, previous policies have pitted government against\\n> industry and the rights of privacy against law enforcement.\\n\\nBla-bla.\\n\\n> protect electronic mail and computer files.  While encryption\\n> technology can help Americans protect business secrets and the\\n> unauthorized release of personal information, it also can be used\\n> by terrorists, drug dealers, and other criminals.\\n\\nIndeed, and the current proposal does nothing to prevent the latter.\\n\\n> an ordinary telephone.  It scrambles telephone communications\\n> using an encryption algorithm that is more powerful than many in\\n> commercial use today.\\n\\nThis doesn\\'t say much. There are many incredibly weak encryption\\nalgorithms in commercial use today...\\n\\n> This new technology will help companies protect proprietary\\n> information, protect the privacy of personal phone conversations\\n> and prevent unauthorized release of data transmitted\\n> electronically.\\n\\nExcept from the government.\\n\\n>  At the same time this technology preserves the\\n> ability of federal, state and local law enforcement agencies to\\n> intercept lawfully the phone conversations of criminals. \\n\\nNope. The criminals won\\'t be stupid enough to use the new chip,\\nthey\\'ll use something secure. This technology provides only means to\\nintercept the phone conversations of people who are stupid enough to\\nuse it.\\n\\n> agencies to decode messages encoded by the device.  When the\\n> device is manufactured, the two keys will be deposited separately\\n> in two \"key-escrow\" data bases that will be established by the\\n> Attorney General.  Access to these keys will be limited to\\n> government officials with legal authorization to conduct a\\n> wiretap.\\n\\nThat is, the government has the keys. It doesn\\'t matter much if they\\nare in one or in two of its hands...\\n\\n> The \"Clipper Chip\" technology provides law enforcement with no\\n> new authorities to access the content of the private\\n> conversations of Americans.\\n\\nCorrect. It does, however, provide those Americans with the false\\nsense of privacy.\\n\\n> devices.  In addition, respected experts from outside the\\n> government will be offered access to the confidential details of\\n> the algorithm to assess its capabilities and publicly report\\n> their findings.\\n\\nIf the screening is not public, it cannot be trusted. Some people do\\nnot trust DES even today, after all the examinations - only because\\nsome parts of its design were kept secret.\\n\\n> The chip is an important step in addressing the problem of\\n> encryption\\'s dual-edge sword:  encryption helps to protect the\\n> privacy of individuals and industry, but it also can shield\\n> criminals and terrorists.  We need the \"Clipper Chip\" and other\\n> approaches that can both provide law-abiding citizens with access\\n> to the encryption they need and prevent criminals from using it\\n> to hide their illegal activities.  In order to assess technology\\n\\nSo they\\'ll use a different technology to hide their illegal\\nactivities. So will those law-abiding citizens, who do not trust their\\ngovernment not to misuse its abilities to decrypt their conversations.\\n\\n>      --   the privacy of our citizens, including the need to\\n>           employ voice or data encryption for business purposes;\\n\\nExcept from the government.\\n\\n>      --   the need of U.S. companies to manufacture and export\\n>           high technology products.\\n\\nHuh? Later it says that the new technology will be export restricted.\\n\\n> Since encryption technology will play an increasingly important\\n> role in that infrastructure, the Federal Government must act\\n> quickly to develop consistent, comprehensive policies regarding\\n> its use.  The Administration is committed to policies that\\n> protect all Americans\\' right to privacy while also protecting\\n> them from those who break the law.\\n\\nIn short, the new technology can:\\n\\n1) Protect the law abiding citizen\\'s privacy from the casual snooper.\\n\\nIt cannot:\\n\\n1) Protect him from the government, if it decides to misuse its\\nability to decrypt the conversations.\\n\\n2) Protect him from the criminals who succeed to break the new\\nencryption scheme or to steal the keys, or to bribe the people who\\nhandle them, etc.\\n\\n3) Prevent the criminals from using secure encryption for\\ncommunication.\\n\\n> Q:   Does this approach expand the authority of government\\n>      agencies to listen in on phone conversations?\\n\\n> A:   No.  \"Clipper Chip\" technology provides law enforcement with\\n>      no new authorities to access the content of the private\\n>      conversations of Americans.\\n\\nCorrect. However, it does not provide them that much privacy as it\\nclaims.\\n\\n> Q:   Who will run the key-escrow data banks?\\n\\n> A:   The two key-escrow data banks will be run by two independent\\n>      entities.  At this point, the Department of Justice and the\\n>      Administration have yet to determine which agencies will\\n>      oversee the key-escrow data banks.\\n\\nTwo candidates: the NSA and the Mafia.\\n\\n> Q:   How strong is the security in the device?  How can I be sure\\n>      how strong the security is?  \\n\\n> A:   This system is more secure than many other voice encryption\\n>      systems readily available today. \\n\\nThat is, \"trust us\".\\n\\n> While the algorithm will\\n>      remain classified to protect the security of the key escrow\\n\\n\"Security through obscurity\".\\n\\n>      system, we are willing to invite an independent panel of\\n>      cryptography experts to evaluate the algorithm to assure all\\n>      potential users that there are no unrecognized\\n>      vulnerabilities.\\n\\nIf it\\'s not entirely open to public examination, it cannot be\\ntrusted. Besides, who can prove that the devices used for examination\\nand the ones built into your phones will be the same?\\n\\n> Q:   Whose decision was it to propose this product?\\n\\n> A:   The National Security Council, the Justice Department, the\\n\\nThe NSA and the FBI?\\n\\n> Q:   Who was consulted?  The Congress?  Industry?\\n\\n> A:   We have on-going discussions with Congress and industry on\\n>      encryption issues, and expect those discussions to intensify\\n>      as we carry out our review of encryption policy.  We have\\n>      briefed members of Congress and industry leaders on the\\n>      decisions related to this initiative.\\n\\nWhy did they \"forget\" the Academia?\\n\\n> Q:   Will the government provide the hardware to manufacturers?\\n\\n> A:   The government designed and developed the key access\\n>      encryption microcircuits, but it is not providing the\\n>      microcircuits to product manufacturers.  Product\\n>      manufacturers can acquire the microcircuits from the chip\\n>      manufacturer that produces them.\\n\\nDoesn\\'t this smell to monopolism?\\n\\n> Q:   Who provides the \"Clipper Chip\"?\\n\\n> A:   Mykotronx programs it at their facility in Torrance,\\n>      California, and will sell the chip to encryption device\\n>      manufacturers.  The programming function could be licensed\\n>      to other vendors in the future.\\n\\nLike the Mafia?\\n\\n> Q:   If the Administration were unable to find a technological\\n>      solution like the one proposed, would the Administration be\\n>      willing to use legal remedies to restrict access to more\\n>      powerful encryption devices?\\n\\nThis is the main question, why was it buried at the end?\\n\\n> A:   This is a fundamental policy question which will be\\n>      considered during the broad policy review.  The key escrow\\n\\n\"We\\'ll see\".\\n\\n>      mechanism will provide Americans with an encryption product\\n>      that is more secure, more convenient, and less expensive\\n>      than others readily available today, but it is just one\\n\\n\"Trust us\".\\n\\n>      The Administration is not saying, \"since encryption\\n>      threatens the public safety and effective law enforcement,\\n>      we will prohibit it outright\" (as some countries have\\n\\nIn short, \"If we decide to outlaw strong crypto, we\\'ll tell you\".\\n\\n>      effectively done); nor is the U.S. saying that \"every\\n>      American, as a matter of right, is entitled to an\\n>      unbreakable commercial encryption product.\"  There is a\\n\\nSince the US government seems to consider strong crypto as munitions\\nand since the US constitutions guarantees the right to every American\\nto bear arms, why is not every American entitled, as a matter of\\nright, to an unbreakable commercial encryption product?\\n\\n> A:   It indicates that we understand the importance of encryption\\n>      technology in telecommunications and computing and are\\n>      committed to working with industry and public-interest\\n>      groups to find innovative ways to protect Americans\\'\\n>      privacy, help businesses to compete, and ensure that law\\n>      enforcement agencies have the tools they need to fight crime\\n>      and terrorism.\\n\\nBullshit. The proposed technology provides a false sense of security,\\nencryption devices with built-in capabilities for breaking the\\nencryption, does not prevent the criminals to use strong crypto, and\\nis a step to outlaw strong crypto.\\n\\n> Q:   Will the devices be exportable?  Will other devices that use\\n>      the government hardware?\\n\\n> A:   Voice encryption devices are subject to export control\\n>      requirements.  Case-by-case review for each export is\\n>      required to ensure appropriate use of these devices.  The\\n\\nWho was the optimist who believed that the new administration will\\nleave the export controls on strong crypto devices?\\n\\nOK, I\\'m not American, it\\'s not my business, but I just couldn\\'t resist\\nto comment... The whole plot looks so totalitaristic... It\\'s up to\\nyou, Americans, to fight for your rights.\\n\\nRegards,\\nVesselin\\n\\nP.S. Now is the time for David Sternlight to pop up and claim that the\\nnew system is great.\\n-- \\nVesselin Vladimirov Bontchev          Virus Test Center, University of Hamburg\\nTel.:+49-40-54715-224, Fax: +49-40-54715-226      Fachbereich Informatik - AGN\\n< PGP 2.2 public key available on request. > Vogt-Koelln-Strasse 30, rm. 107 C\\ne-mail: bontchev@fbihh.informatik.uni-hamburg.de    D-2000 Hamburg 54, Germany\\n'"
      ]
     },
     "execution_count": 7,
     "metadata": {},
     "output_type": "execute_result"
    }
   ],
   "source": [
    "x_train[0][0]"
   ]
  },
  {
   "cell_type": "code",
   "execution_count": 8,
   "metadata": {},
   "outputs": [],
   "source": [
    "#experimental code to just check a few thing \n",
    "listi = [word for word in x_train[0][0].split(' ')]\n",
    "# listi"
   ]
  },
  {
   "cell_type": "code",
   "execution_count": 9,
   "metadata": {},
   "outputs": [],
   "source": [
    "stopwords = set([u'your', u'yours', u'yourself', u'yourselves', u'he', u'him', u'his', u'himself', u'she', \n",
    "u\"she's\", u'her', u'hers', u'herself', u'it', u\"it's\", u'its', u'itself', u'they', u'them', \n",
    "u'their', u'theirs', u'themselves', u'what', u'which', u'who', u'whom', u'this', \n",
    "u'that', u\"that'll\", u'these', u'those', u'am', u'is', u'are', u'was', u'were', u'be',\n",
    "u'been', u'being', u'have', u'has', u'had', u'having', u'do', u'does', u'did', u'doing',\n",
    "u'a', u'an', u'the', u'and', u'but', u'if', u'or', u'because', u'as', u'until',\n",
    "u'while', u'of', u'at'])"
   ]
  },
  {
   "cell_type": "code",
   "execution_count": 10,
   "metadata": {},
   "outputs": [
    {
     "data": {
      "image/png": "[encoded data removed]",
      "text/plain": [
       "<Figure size 432x288 with 1 Axes>"
      ]
     },
     "metadata": {},
     "output_type": "display_data"
    }
   ],
   "source": [
    "#preparing vocabulary\n",
    "vocab = {}\n",
    "for file in x_train:\n",
    "    words = []\n",
    "    for a in re.split(';|,|\\n|:',file[0]) :\n",
    "        for word in a.strip().replace(\".\",\"\").split(' '):\n",
    "            words.append(word)\n",
    "    for word in words:\n",
    "        word = word.lower()\n",
    "        if word in stopwords:\n",
    "            continue\n",
    "        if word in vocab.keys():\n",
    "            vocab[word] += 1\n",
    "        else :\n",
    "            vocab[word] = 1\n",
    "\n",
    "\n",
    "#just an experiment to see the pattern in the frequency of words \n",
    "freq = []\n",
    "for key in vocab.keys():\n",
    "    freq.append(vocab[key])\n",
    "    \n",
    "freq_dict ={}\n",
    "for fr in freq:\n",
    "    if fr in freq_dict.keys():\n",
    "        freq_dict[fr] += 1\n",
    "    else :\n",
    "        freq_dict[fr] = 1\n",
    "        \n",
    "x_list = []\n",
    "y_list = []\n",
    "for key in freq_dict.keys():\n",
    "    if key < 5 or key > 20 :\n",
    "        continue\n",
    "    x_list.append(key)\n",
    "    y_list.append(freq_dict[key])\n",
    "    \n",
    "plt.scatter(x_list,y_list)\n",
    "plt.show()"
   ]
  },
  {
   "cell_type": "code",
   "execution_count": 11,
   "metadata": {},
   "outputs": [
    {
     "data": {
      "text/plain": [
       "59006"
      ]
     },
     "execution_count": 11,
     "metadata": {},
     "output_type": "execute_result"
    }
   ],
   "source": [
    "len(vocab.keys())"
   ]
  },
  {
   "cell_type": "code",
   "execution_count": 12,
   "metadata": {},
   "outputs": [
    {
     "name": "stdout",
     "output_type": "stream",
     "text": [
      "4418\n"
     ]
    }
   ],
   "source": [
    "#to remove the words whose frequency is very less and which would not make up to be good feature\n",
    "to_remove = []\n",
    "for key in vocab.keys():\n",
    "    # Different values can be tried here \n",
    "    if vocab[key] < 10:\n",
    "        to_remove.append(key)\n",
    "\n",
    "for key in to_remove:\n",
    "    del vocab[key]\n",
    "    \n",
    "print(len(vocab.keys()))"
   ]
  },
  {
   "cell_type": "code",
   "execution_count": 13,
   "metadata": {},
   "outputs": [
    {
     "data": {
      "text/plain": [
       "4418"
      ]
     },
     "execution_count": 13,
     "metadata": {},
     "output_type": "execute_result"
    }
   ],
   "source": [
    "word_order = [key for key in vocab.keys()]\n",
    "len(word_order)"
   ]
  },
  {
   "cell_type": "code",
   "execution_count": 14,
   "metadata": {},
   "outputs": [],
   "source": [
    "df = pd.DataFrame(np.zeros(shape = (len(x_train), len(word_order)))  , columns = word_order)"
   ]
  },
  {
   "cell_type": "code",
   "execution_count": 15,
   "metadata": {},
   "outputs": [
    {
     "data": {
      "text/plain": [
       "(1499, 4418)"
      ]
     },
     "execution_count": 15,
     "metadata": {},
     "output_type": "execute_result"
    }
   ],
   "source": [
    "df.shape"
   ]
  },
  {
   "cell_type": "code",
   "execution_count": 16,
   "metadata": {},
   "outputs": [],
   "source": [
    "#creating the dataset\n",
    "for i in range(len(x_train)):\n",
    "    file = x_train[i]\n",
    "    words = []\n",
    "    for a in re.split(';|,|\\n|:',file[0]) :\n",
    "        for word in a.strip().replace(\".\",\"\").split(' '):\n",
    "            words.append(word)\n",
    "    for word in words:\n",
    "        word = word.lower()\n",
    "        if word not in vocab.keys():\n",
    "            continue\n",
    "        df.at[i,word] += 1\n",
    "        "
   ]
  },
  {
   "cell_type": "code",
   "execution_count": 17,
   "metadata": {},
   "outputs": [],
   "source": [
    "# df.loc[:,\"formatted\"].sum()"
   ]
  },
  {
   "cell_type": "code",
   "execution_count": 18,
   "metadata": {},
   "outputs": [
    {
     "name": "stdout",
     "output_type": "stream",
     "text": [
      "['alt.atheism', 'comp.graphics', 'comp.os.ms-windows.misc', 'comp.sys.ibm.pc.hardware', 'comp.sys.mac.hardware', 'comp.windows.x', 'misc.forsale', 'rec.autos', 'rec.motorcycles', 'rec.sport.baseball', 'rec.sport.hockey', 'sci.crypt', 'sci.electronics', 'sci.med', 'sci.space', 'soc.religion.christian', 'talk.politics.guns', 'talk.politics.mideast', 'talk.politics.misc', 'talk.religion.misc']\n"
     ]
    }
   ],
   "source": [
    "print(names)"
   ]
  },
  {
   "cell_type": "code",
   "execution_count": 19,
   "metadata": {},
   "outputs": [
    {
     "name": "stdout",
     "output_type": "stream",
     "text": [
      "351118.0\n"
     ]
    }
   ],
   "source": [
    "(x_train[: ,1] == 'alt.atheism').sum()\n",
    "print(df.sum().sum())"
   ]
  },
  {
   "cell_type": "code",
   "execution_count": 20,
   "metadata": {},
   "outputs": [],
   "source": [
    "#building our data in a python dictionary structure in order to perform the naive bayes algo on the test_data efficiently \n",
    "output = {}\n",
    "for label in names : \n",
    "    output[label] = {}\n",
    "    df_temp = df[x_train[:,1] == label]\n",
    "    tot = df_temp.sum().sum()\n",
    "    output[label][\"tot_words_present\"] = tot\n",
    "    output[label][\"size_of_the_label\"] = df_temp.shape[0]\n",
    "    for word in vocab.keys():\n",
    "        output[label][word] = df_temp.loc[:,word].sum()\n",
    "\n",
    "# prediction using naive bayes\n",
    "y_pred = []\n",
    "for file in x_test:\n",
    "    words = []\n",
    "    for a in re.split(';|,|\\n|:',file[0]) :\n",
    "        for word in a.strip().replace(\".\",\"\").split(' '):\n",
    "            words.append(word)\n",
    "    maxi = -5000000\n",
    "    pred = \"\"\n",
    "    for label in names:\n",
    "        prob = np.log(output[label][\"size_of_the_label\"]) - np.log(df.shape[0])\n",
    "        for word in words:\n",
    "            word = word.lower()\n",
    "            if word not in vocab.keys():\n",
    "                continue\n",
    "            numer = output[label][word] + 1\n",
    "            denum = output[label][\"tot_words_present\"] + len(vocab.keys())\n",
    "            prob += np.log(numer) - np.log(denum)\n",
    "            \n",
    "        if prob > maxi:\n",
    "            pred = label\n",
    "            maxi = prob\n",
    "    \n",
    "    y_pred.append(pred)"
   ]
  },
  {
   "cell_type": "code",
   "execution_count": 21,
   "metadata": {},
   "outputs": [
    {
     "data": {
      "text/plain": [
       "0.716"
      ]
     },
     "execution_count": 21,
     "metadata": {},
     "output_type": "execute_result"
    }
   ],
   "source": [
    "accuracy_score(x_test[:,1],y_pred)"
   ]
  },
  {
   "cell_type": "code",
   "execution_count": 22,
   "metadata": {},
   "outputs": [],
   "source": [
    "# some newsgroups were in the format such that the that they had subgroups\n",
    "# for example sci.space and sci.med , although both are different newsgroup but are under a main umbrella i.e science \n",
    "# so i tested the accuracy of predicting the correct overhead topic and turns out it is better than the actual accuracy \n",
    "# this means that(lets say) if article of sci.space does not get classified correctly it has higher probablity to get\n",
    "# classified as sci.med than some other random newsgroup \n",
    "a = [label.split('.')[0] for label in x_test[:,1]]\n",
    "b = [label.split('.')[0] for label in y_pred]"
   ]
  },
  {
   "cell_type": "code",
   "execution_count": 23,
   "metadata": {},
   "outputs": [
    {
     "data": {
      "text/plain": [
       "0.838"
      ]
     },
     "execution_count": 23,
     "metadata": {},
     "output_type": "execute_result"
    }
   ],
   "source": [
    "accuracy_score(a,b)"
   ]
  },
  {
   "cell_type": "code",
   "execution_count": 24,
   "metadata": {},
   "outputs": [
    {
     "data": {
      "text/plain": [
       "['misc.forsale',\n",
       " 'talk.politics.guns',\n",
       " 'rec.autos',\n",
       " 'misc.forsale',\n",
       " 'talk.politics.guns',\n",
       " 'misc.forsale',\n",
       " 'talk.politics.guns',\n",
       " 'comp.sys.mac.hardware',\n",
       " 'soc.religion.christian',\n",
       " 'rec.motorcycles',\n",
       " 'talk.religion.misc',\n",
       " 'soc.religion.christian',\n",
       " 'talk.politics.guns',\n",
       " 'comp.sys.mac.hardware',\n",
       " 'comp.sys.mac.hardware',\n",
       " 'alt.atheism',\n",
       " 'comp.os.ms-windows.misc',\n",
       " 'comp.os.ms-windows.misc',\n",
       " 'sci.med',\n",
       " 'rec.motorcycles',\n",
       " 'comp.os.ms-windows.misc',\n",
       " 'talk.politics.misc',\n",
       " 'rec.autos',\n",
       " 'rec.sport.baseball',\n",
       " 'talk.politics.mideast',\n",
       " 'comp.sys.ibm.pc.hardware',\n",
       " 'misc.forsale',\n",
       " 'comp.sys.ibm.pc.hardware',\n",
       " 'rec.autos',\n",
       " 'comp.os.ms-windows.misc',\n",
       " 'sci.med',\n",
       " 'talk.politics.guns',\n",
       " 'comp.sys.mac.hardware',\n",
       " 'rec.autos',\n",
       " 'comp.windows.x',\n",
       " 'rec.sport.hockey',\n",
       " 'talk.politics.mideast',\n",
       " 'talk.religion.misc',\n",
       " 'talk.politics.guns',\n",
       " 'soc.religion.christian',\n",
       " 'comp.sys.ibm.pc.hardware',\n",
       " 'comp.os.ms-windows.misc',\n",
       " 'sci.crypt',\n",
       " 'rec.sport.hockey',\n",
       " 'talk.religion.misc',\n",
       " 'talk.politics.guns',\n",
       " 'comp.sys.ibm.pc.hardware',\n",
       " 'talk.politics.mideast',\n",
       " 'talk.politics.mideast',\n",
       " 'talk.religion.misc',\n",
       " 'talk.politics.guns',\n",
       " 'soc.religion.christian',\n",
       " 'talk.politics.guns',\n",
       " 'comp.sys.ibm.pc.hardware',\n",
       " 'misc.forsale',\n",
       " 'sci.crypt',\n",
       " 'rec.sport.baseball',\n",
       " 'soc.religion.christian',\n",
       " 'rec.autos',\n",
       " 'alt.atheism',\n",
       " 'rec.sport.hockey',\n",
       " 'comp.graphics',\n",
       " 'rec.motorcycles',\n",
       " 'rec.sport.hockey',\n",
       " 'sci.space',\n",
       " 'soc.religion.christian',\n",
       " 'talk.religion.misc',\n",
       " 'rec.sport.hockey',\n",
       " 'sci.crypt',\n",
       " 'talk.politics.guns',\n",
       " 'rec.motorcycles',\n",
       " 'misc.forsale',\n",
       " 'sci.electronics',\n",
       " 'sci.crypt',\n",
       " 'rec.sport.hockey',\n",
       " 'rec.sport.hockey',\n",
       " 'rec.sport.hockey',\n",
       " 'sci.electronics',\n",
       " 'talk.politics.misc',\n",
       " 'soc.religion.christian',\n",
       " 'comp.sys.ibm.pc.hardware',\n",
       " 'misc.forsale',\n",
       " 'comp.graphics',\n",
       " 'comp.os.ms-windows.misc',\n",
       " 'sci.crypt',\n",
       " 'sci.space',\n",
       " 'misc.forsale',\n",
       " 'alt.atheism',\n",
       " 'comp.sys.ibm.pc.hardware',\n",
       " 'comp.os.ms-windows.misc',\n",
       " 'comp.sys.ibm.pc.hardware',\n",
       " 'rec.sport.hockey',\n",
       " 'comp.os.ms-windows.misc',\n",
       " 'talk.religion.misc',\n",
       " 'talk.politics.mideast',\n",
       " 'comp.windows.x',\n",
       " 'comp.sys.ibm.pc.hardware',\n",
       " 'rec.motorcycles',\n",
       " 'sci.med',\n",
       " 'alt.atheism',\n",
       " 'talk.religion.misc',\n",
       " 'comp.graphics',\n",
       " 'rec.motorcycles',\n",
       " 'alt.atheism',\n",
       " 'rec.sport.hockey',\n",
       " 'comp.windows.x',\n",
       " 'alt.atheism',\n",
       " 'sci.crypt',\n",
       " 'talk.politics.guns',\n",
       " 'sci.crypt',\n",
       " 'rec.sport.baseball',\n",
       " 'talk.politics.mideast',\n",
       " 'rec.motorcycles',\n",
       " 'rec.sport.hockey',\n",
       " 'talk.politics.misc',\n",
       " 'rec.motorcycles',\n",
       " 'rec.autos',\n",
       " 'sci.crypt',\n",
       " 'soc.religion.christian',\n",
       " 'rec.sport.hockey',\n",
       " 'rec.sport.baseball',\n",
       " 'sci.electronics',\n",
       " 'talk.politics.misc',\n",
       " 'rec.sport.baseball',\n",
       " 'rec.autos',\n",
       " 'sci.med',\n",
       " 'sci.electronics',\n",
       " 'rec.sport.hockey',\n",
       " 'sci.med',\n",
       " 'talk.politics.mideast',\n",
       " 'rec.sport.hockey',\n",
       " 'soc.religion.christian',\n",
       " 'rec.autos',\n",
       " 'comp.sys.mac.hardware',\n",
       " 'talk.politics.guns',\n",
       " 'comp.os.ms-windows.misc',\n",
       " 'sci.med',\n",
       " 'comp.sys.ibm.pc.hardware',\n",
       " 'rec.sport.hockey',\n",
       " 'comp.windows.x',\n",
       " 'talk.religion.misc',\n",
       " 'talk.religion.misc',\n",
       " 'sci.med',\n",
       " 'misc.forsale',\n",
       " 'soc.religion.christian',\n",
       " 'alt.atheism',\n",
       " 'sci.crypt',\n",
       " 'talk.religion.misc',\n",
       " 'alt.atheism',\n",
       " 'alt.atheism',\n",
       " 'rec.sport.baseball',\n",
       " 'comp.sys.ibm.pc.hardware',\n",
       " 'rec.sport.hockey',\n",
       " 'rec.sport.baseball',\n",
       " 'comp.graphics',\n",
       " 'soc.religion.christian',\n",
       " 'comp.sys.mac.hardware',\n",
       " 'sci.crypt',\n",
       " 'sci.space',\n",
       " 'sci.space',\n",
       " 'talk.politics.guns',\n",
       " 'rec.sport.baseball',\n",
       " 'sci.crypt',\n",
       " 'misc.forsale',\n",
       " 'comp.graphics',\n",
       " 'talk.politics.misc',\n",
       " 'misc.forsale',\n",
       " 'comp.sys.ibm.pc.hardware',\n",
       " 'soc.religion.christian',\n",
       " 'sci.med',\n",
       " 'talk.politics.guns',\n",
       " 'talk.politics.guns',\n",
       " 'comp.graphics',\n",
       " 'talk.politics.mideast',\n",
       " 'rec.sport.hockey',\n",
       " 'talk.politics.guns',\n",
       " 'rec.sport.hockey',\n",
       " 'rec.autos',\n",
       " 'talk.politics.mideast',\n",
       " 'rec.motorcycles',\n",
       " 'rec.sport.hockey',\n",
       " 'comp.windows.x',\n",
       " 'misc.forsale',\n",
       " 'rec.motorcycles',\n",
       " 'rec.sport.hockey',\n",
       " 'sci.electronics',\n",
       " 'misc.forsale',\n",
       " 'rec.sport.hockey',\n",
       " 'comp.graphics',\n",
       " 'talk.politics.guns',\n",
       " 'rec.sport.hockey',\n",
       " 'sci.space',\n",
       " 'sci.med',\n",
       " 'soc.religion.christian',\n",
       " 'comp.os.ms-windows.misc',\n",
       " 'talk.religion.misc',\n",
       " 'misc.forsale',\n",
       " 'comp.sys.ibm.pc.hardware',\n",
       " 'rec.sport.baseball',\n",
       " 'rec.autos',\n",
       " 'soc.religion.christian',\n",
       " 'rec.motorcycles',\n",
       " 'talk.politics.guns',\n",
       " 'rec.autos',\n",
       " 'talk.politics.mideast',\n",
       " 'rec.motorcycles',\n",
       " 'rec.sport.baseball',\n",
       " 'comp.os.ms-windows.misc',\n",
       " 'rec.motorcycles',\n",
       " 'misc.forsale',\n",
       " 'rec.sport.hockey',\n",
       " 'sci.crypt',\n",
       " 'comp.sys.ibm.pc.hardware',\n",
       " 'talk.politics.mideast',\n",
       " 'rec.sport.baseball',\n",
       " 'comp.sys.ibm.pc.hardware',\n",
       " 'rec.sport.hockey',\n",
       " 'comp.sys.mac.hardware',\n",
       " 'talk.politics.misc',\n",
       " 'talk.politics.misc',\n",
       " 'rec.autos',\n",
       " 'sci.space',\n",
       " 'sci.med',\n",
       " 'rec.sport.hockey',\n",
       " 'comp.sys.mac.hardware',\n",
       " 'alt.atheism',\n",
       " 'rec.motorcycles',\n",
       " 'sci.crypt',\n",
       " 'comp.os.ms-windows.misc',\n",
       " 'comp.graphics',\n",
       " 'rec.sport.hockey',\n",
       " 'sci.electronics',\n",
       " 'rec.sport.baseball',\n",
       " 'talk.politics.mideast',\n",
       " 'comp.os.ms-windows.misc',\n",
       " 'rec.motorcycles',\n",
       " 'rec.autos',\n",
       " 'rec.motorcycles',\n",
       " 'rec.autos',\n",
       " 'rec.sport.baseball',\n",
       " 'comp.sys.mac.hardware',\n",
       " 'misc.forsale',\n",
       " 'talk.politics.mideast',\n",
       " 'talk.politics.misc',\n",
       " 'alt.atheism',\n",
       " 'comp.os.ms-windows.misc',\n",
       " 'rec.sport.hockey',\n",
       " 'rec.sport.baseball',\n",
       " 'talk.religion.misc',\n",
       " 'sci.electronics',\n",
       " 'comp.sys.ibm.pc.hardware',\n",
       " 'comp.os.ms-windows.misc',\n",
       " 'rec.sport.baseball',\n",
       " 'sci.electronics',\n",
       " 'soc.religion.christian',\n",
       " 'rec.autos',\n",
       " 'rec.sport.hockey',\n",
       " 'soc.religion.christian',\n",
       " 'talk.religion.misc',\n",
       " 'comp.os.ms-windows.misc',\n",
       " 'soc.religion.christian',\n",
       " 'misc.forsale',\n",
       " 'alt.atheism',\n",
       " 'misc.forsale',\n",
       " 'rec.sport.baseball',\n",
       " 'talk.politics.guns',\n",
       " 'rec.sport.hockey',\n",
       " 'talk.politics.guns',\n",
       " 'soc.religion.christian',\n",
       " 'comp.sys.mac.hardware',\n",
       " 'comp.sys.ibm.pc.hardware',\n",
       " 'alt.atheism',\n",
       " 'rec.motorcycles',\n",
       " 'sci.electronics',\n",
       " 'rec.sport.hockey',\n",
       " 'comp.sys.mac.hardware',\n",
       " 'alt.atheism',\n",
       " 'rec.sport.hockey',\n",
       " 'comp.os.ms-windows.misc',\n",
       " 'rec.sport.baseball',\n",
       " 'comp.graphics',\n",
       " 'talk.politics.guns',\n",
       " 'comp.sys.ibm.pc.hardware',\n",
       " 'talk.politics.misc',\n",
       " 'talk.politics.guns',\n",
       " 'comp.windows.x',\n",
       " 'sci.electronics',\n",
       " 'comp.os.ms-windows.misc',\n",
       " 'rec.sport.baseball',\n",
       " 'sci.crypt',\n",
       " 'sci.crypt',\n",
       " 'alt.atheism',\n",
       " 'sci.med',\n",
       " 'soc.religion.christian',\n",
       " 'rec.sport.hockey',\n",
       " 'comp.graphics',\n",
       " 'comp.sys.mac.hardware',\n",
       " 'sci.space',\n",
       " 'talk.religion.misc',\n",
       " 'comp.sys.mac.hardware',\n",
       " 'comp.os.ms-windows.misc',\n",
       " 'comp.os.ms-windows.misc',\n",
       " 'sci.med',\n",
       " 'misc.forsale',\n",
       " 'sci.med',\n",
       " 'alt.atheism',\n",
       " 'sci.space',\n",
       " 'sci.med',\n",
       " 'misc.forsale',\n",
       " 'comp.os.ms-windows.misc',\n",
       " 'talk.politics.guns',\n",
       " 'rec.autos',\n",
       " 'comp.os.ms-windows.misc',\n",
       " 'misc.forsale',\n",
       " 'misc.forsale',\n",
       " 'alt.atheism',\n",
       " 'sci.electronics',\n",
       " 'rec.autos',\n",
       " 'alt.atheism',\n",
       " 'talk.religion.misc',\n",
       " 'comp.windows.x',\n",
       " 'talk.religion.misc',\n",
       " 'comp.os.ms-windows.misc',\n",
       " 'talk.politics.guns',\n",
       " 'sci.med',\n",
       " 'alt.atheism',\n",
       " 'comp.sys.mac.hardware',\n",
       " 'talk.politics.guns',\n",
       " 'comp.graphics',\n",
       " 'comp.os.ms-windows.misc',\n",
       " 'alt.atheism',\n",
       " 'sci.space',\n",
       " 'talk.politics.guns',\n",
       " 'comp.windows.x',\n",
       " 'talk.politics.mideast',\n",
       " 'comp.windows.x',\n",
       " 'rec.motorcycles',\n",
       " 'comp.sys.ibm.pc.hardware',\n",
       " 'rec.sport.hockey',\n",
       " 'comp.os.ms-windows.misc',\n",
       " 'comp.sys.ibm.pc.hardware',\n",
       " 'comp.sys.mac.hardware',\n",
       " 'misc.forsale',\n",
       " 'rec.motorcycles',\n",
       " 'talk.politics.misc',\n",
       " 'misc.forsale',\n",
       " 'rec.motorcycles',\n",
       " 'alt.atheism',\n",
       " 'talk.religion.misc',\n",
       " 'talk.politics.mideast',\n",
       " 'comp.sys.ibm.pc.hardware',\n",
       " 'comp.os.ms-windows.misc',\n",
       " 'comp.graphics',\n",
       " 'alt.atheism',\n",
       " 'alt.atheism',\n",
       " 'comp.os.ms-windows.misc',\n",
       " 'misc.forsale',\n",
       " 'sci.space',\n",
       " 'sci.space',\n",
       " 'alt.atheism',\n",
       " 'comp.os.ms-windows.misc',\n",
       " 'comp.graphics',\n",
       " 'misc.forsale',\n",
       " 'soc.religion.christian',\n",
       " 'talk.politics.misc',\n",
       " 'comp.os.ms-windows.misc',\n",
       " 'sci.crypt',\n",
       " 'rec.autos',\n",
       " 'rec.autos',\n",
       " 'rec.sport.hockey',\n",
       " 'talk.religion.misc',\n",
       " 'comp.windows.x',\n",
       " 'comp.sys.ibm.pc.hardware',\n",
       " 'sci.space',\n",
       " 'soc.religion.christian',\n",
       " 'comp.os.ms-windows.misc',\n",
       " 'talk.religion.misc',\n",
       " 'rec.motorcycles',\n",
       " 'rec.autos',\n",
       " 'misc.forsale',\n",
       " 'misc.forsale',\n",
       " 'comp.graphics',\n",
       " 'talk.politics.misc',\n",
       " 'comp.windows.x',\n",
       " 'alt.atheism',\n",
       " 'misc.forsale',\n",
       " 'comp.windows.x',\n",
       " 'alt.atheism',\n",
       " 'talk.politics.misc',\n",
       " 'comp.windows.x',\n",
       " 'sci.electronics',\n",
       " 'comp.windows.x',\n",
       " 'comp.sys.ibm.pc.hardware',\n",
       " 'comp.os.ms-windows.misc',\n",
       " 'rec.motorcycles',\n",
       " 'comp.sys.mac.hardware',\n",
       " 'rec.motorcycles',\n",
       " 'misc.forsale',\n",
       " 'sci.electronics',\n",
       " 'talk.religion.misc',\n",
       " 'talk.politics.mideast',\n",
       " 'rec.autos',\n",
       " 'sci.crypt',\n",
       " 'misc.forsale',\n",
       " 'talk.politics.mideast',\n",
       " 'rec.autos',\n",
       " 'comp.graphics',\n",
       " 'comp.windows.x',\n",
       " 'sci.crypt',\n",
       " 'comp.sys.ibm.pc.hardware',\n",
       " 'talk.politics.mideast',\n",
       " 'sci.crypt',\n",
       " 'comp.sys.ibm.pc.hardware',\n",
       " 'sci.med',\n",
       " 'alt.atheism',\n",
       " 'comp.sys.mac.hardware',\n",
       " 'rec.sport.hockey',\n",
       " 'talk.politics.guns',\n",
       " 'sci.crypt',\n",
       " 'sci.med',\n",
       " 'talk.politics.misc',\n",
       " 'misc.forsale',\n",
       " 'sci.crypt',\n",
       " 'rec.sport.baseball',\n",
       " 'comp.os.ms-windows.misc',\n",
       " 'comp.sys.mac.hardware',\n",
       " 'comp.sys.ibm.pc.hardware',\n",
       " 'sci.space',\n",
       " 'comp.sys.mac.hardware',\n",
       " 'talk.politics.guns',\n",
       " 'comp.sys.ibm.pc.hardware',\n",
       " 'rec.autos',\n",
       " 'comp.windows.x',\n",
       " 'rec.sport.baseball',\n",
       " 'comp.sys.mac.hardware',\n",
       " 'sci.space',\n",
       " 'talk.politics.mideast',\n",
       " 'rec.autos',\n",
       " 'talk.religion.misc',\n",
       " 'comp.sys.ibm.pc.hardware',\n",
       " 'sci.electronics',\n",
       " 'talk.religion.misc',\n",
       " 'comp.windows.x',\n",
       " 'alt.atheism',\n",
       " 'comp.graphics',\n",
       " 'soc.religion.christian',\n",
       " 'comp.sys.mac.hardware',\n",
       " 'talk.religion.misc',\n",
       " 'alt.atheism',\n",
       " 'comp.sys.mac.hardware',\n",
       " 'sci.space',\n",
       " 'sci.med',\n",
       " 'comp.graphics',\n",
       " 'talk.politics.guns',\n",
       " 'rec.motorcycles',\n",
       " 'rec.sport.hockey',\n",
       " 'comp.os.ms-windows.misc',\n",
       " 'sci.med',\n",
       " 'rec.sport.baseball',\n",
       " 'talk.politics.guns',\n",
       " 'rec.autos',\n",
       " 'rec.autos',\n",
       " 'talk.politics.mideast',\n",
       " 'rec.sport.hockey',\n",
       " 'comp.sys.ibm.pc.hardware',\n",
       " 'sci.med',\n",
       " 'rec.sport.hockey',\n",
       " 'soc.religion.christian',\n",
       " 'comp.os.ms-windows.misc',\n",
       " 'rec.sport.hockey',\n",
       " 'misc.forsale',\n",
       " 'talk.politics.guns',\n",
       " 'comp.sys.ibm.pc.hardware',\n",
       " 'sci.med',\n",
       " 'comp.graphics',\n",
       " 'rec.sport.baseball',\n",
       " 'sci.med',\n",
       " 'comp.windows.x',\n",
       " 'rec.autos',\n",
       " 'comp.sys.ibm.pc.hardware',\n",
       " 'comp.graphics',\n",
       " 'sci.med',\n",
       " 'comp.sys.ibm.pc.hardware',\n",
       " 'rec.autos',\n",
       " 'comp.os.ms-windows.misc',\n",
       " 'comp.sys.ibm.pc.hardware',\n",
       " 'comp.sys.mac.hardware',\n",
       " 'soc.religion.christian',\n",
       " 'comp.windows.x',\n",
       " 'sci.med',\n",
       " 'talk.politics.mideast',\n",
       " 'alt.atheism',\n",
       " 'rec.sport.hockey',\n",
       " 'alt.atheism',\n",
       " 'comp.windows.x',\n",
       " 'soc.religion.christian',\n",
       " 'rec.motorcycles',\n",
       " 'comp.os.ms-windows.misc',\n",
       " 'sci.electronics',\n",
       " 'rec.autos']"
      ]
     },
     "execution_count": 24,
     "metadata": {},
     "output_type": "execute_result"
    }
   ],
   "source": [
    "y_pred"
   ]
  },
  {
   "cell_type": "code",
   "execution_count": 63,
   "metadata": {},
   "outputs": [],
   "source": [
    "from sklearn.naive_bayes import MultinomialNB"
   ]
  },
  {
   "cell_type": "code",
   "execution_count": 64,
   "metadata": {},
   "outputs": [],
   "source": [
    "clf = MultinomialNB()"
   ]
  },
  {
   "cell_type": "code",
   "execution_count": 65,
   "metadata": {},
   "outputs": [
    {
     "data": {
      "text/plain": [
       "MultinomialNB(alpha=1.0, class_prior=None, fit_prior=True)"
      ]
     },
     "execution_count": 65,
     "metadata": {},
     "output_type": "execute_result"
    }
   ],
   "source": [
    "clf.fit(df,x_train[:,1])"
   ]
  },
  {
   "cell_type": "code",
   "execution_count": 66,
   "metadata": {},
   "outputs": [],
   "source": [
    "df_test = pd.DataFrame(np.zeros(shape = (len(x_test), len(word_order)))  , columns = word_order)\n",
    "for i in range(len(x_test)):\n",
    "    file = x_test[i]\n",
    "    words = []\n",
    "    for a in re.split(';|,|\\n|:',file[0]) :\n",
    "        for word in a.strip().replace(\".\",\"\").split(' '):\n",
    "            words.append(word)\n",
    "    for word in words:\n",
    "        word = word.lower()\n",
    "        if word not in vocab.keys():\n",
    "            continue\n",
    "        df_test.at[i,word] += 1 "
   ]
  },
  {
   "cell_type": "code",
   "execution_count": 67,
   "metadata": {},
   "outputs": [],
   "source": [
    "y_pred_sk = clf.predict(df_test)"
   ]
  },
  {
   "cell_type": "code",
   "execution_count": 68,
   "metadata": {},
   "outputs": [
    {
     "data": {
      "text/plain": [
       "0.698"
      ]
     },
     "execution_count": 68,
     "metadata": {},
     "output_type": "execute_result"
    }
   ],
   "source": [
    "accuracy_score(x_test[:,1],y_pred_sk)"
   ]
  },
  {
   "cell_type": "markdown",
   "metadata": {},
   "source": [
    "#### Got exactly same accuracy using sklearn multinomial naive bayes classifier and our own programmed classifier"
   ]
  },
  {
   "cell_type": "markdown",
   "metadata": {},
   "source": [
    "There were two datasets available on the website, one with 2,000 articles and the other with 20,000 because of computational power constrained, smaller dataset was choosen but the larger dataset would have resulted in better accuracy \n"
   ]
  },
  {
   "cell_type": "code",
   "execution_count": null,
   "metadata": {},
   "outputs": [],
   "source": []
  }
 ],
 "metadata": {
  "kernelspec": {
   "display_name": "Python 3",
   "language": "python",
   "name": "python3"
  },
  "language_info": {
   "codemirror_mode": {
    "name": "ipython",
    "version": 3
   },
   "file_extension": ".py",
   "mimetype": "text/x-python",
   "name": "python",
   "nbconvert_exporter": "python",
   "pygments_lexer": "ipython3",
   "version": "3.6.5"
  }
 },
 "nbformat": 4,
 "nbformat_minor": 2
}
